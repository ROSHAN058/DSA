{
 "cells": [
  {
   "cell_type": "code",
   "execution_count": 290,
   "id": "651456a8-3fed-411a-b517-30b58a708211",
   "metadata": {},
   "outputs": [
    {
     "data": {
      "text/plain": [
       "[[1, 9], [2, 6], [8, 10], [11, 13], [15, 18], [16, 30]]"
      ]
     },
     "execution_count": 290,
     "metadata": {},
     "output_type": "execute_result"
    }
   ],
   "source": [
    "intervals = [[1,9],[11,13],[2,6],[16,30],[8,10],[15,18]]\n",
    "#intervals=[[1,4],[1,4]]\n",
    "#intervals=[[1,4],[0,4]]\n",
    "#intervals=[[1,4],[2,3]]\n",
    "#intervals=[[1,4],[0,2],[3,5]]\n",
    "#intervals=[[1,3],[2,6],[8,10],[15,18]]\n",
    "intervals.sort(key=lambda x: x[0])\n",
    "intervals"
   ]
  },
  {
   "cell_type": "code",
   "execution_count": 291,
   "id": "aad36639-3a9c-4b69-9f7f-e0839a447283",
   "metadata": {},
   "outputs": [
    {
     "name": "stdout",
     "output_type": "stream",
     "text": [
      "[] [1, 9]\n",
      "[[1, 9]] 9 1\n",
      "[[1, 9]] [2, 6]\n",
      "[[1, 9]] 9 2\n",
      "[[1, 9]] [8, 10]\n",
      "[[1, 10]] 10 8\n",
      "[[1, 10]] [11, 13]\n",
      "[[1, 10], [11, 13]] 13 11\n",
      "[[1, 10], [11, 13]] [15, 18]\n",
      "[[1, 10], [11, 13], [15, 18]] 18 15\n",
      "[[1, 10], [11, 13], [15, 18]] [16, 30]\n",
      "[[1, 10], [11, 13], [15, 30]] 30 16\n"
     ]
    }
   ],
   "source": [
    "intervals.sort(key=lambda x: x[0])\n",
    "merged = []\n",
    "for interval in intervals:\n",
    "    # if the list of merged intervals is empty or if the current\n",
    "    # interval does not overlap with the previous, simply append it.\n",
    "    print(merged,interval)\n",
    "    if not merged or merged[-1][1] < interval[0]:\n",
    "        merged.append(interval)\n",
    "    else:\n",
    "        # otherwise, there is overlap, so we merge the current and previous\n",
    "        # intervals.\n",
    "        merged[-1][1] = max(merged[-1][1], interval[1])\n",
    "    print(merged,merged[-1][1],interval[0]) \n"
   ]
  },
  {
   "cell_type": "code",
   "execution_count": 278,
   "id": "064175e7-893b-4e50-bb6e-5ccea571baf8",
   "metadata": {},
   "outputs": [
    {
     "data": {
      "text/plain": [
       "[[1, 6], [2, 6], [8, 10], [15, 18]]"
      ]
     },
     "execution_count": 278,
     "metadata": {},
     "output_type": "execute_result"
    }
   ],
   "source": [
    "intervals"
   ]
  },
  {
   "cell_type": "code",
   "execution_count": 272,
   "id": "c6b07ce5-f881-40ed-9bc1-d0a685323332",
   "metadata": {},
   "outputs": [
    {
     "data": {
      "text/plain": [
       "[[1, 6], [8, 18]]"
      ]
     },
     "execution_count": 272,
     "metadata": {},
     "output_type": "execute_result"
    }
   ],
   "source": [
    "intervals"
   ]
  },
  {
   "cell_type": "code",
   "execution_count": null,
   "id": "afc3b536-5938-41f0-b6c7-b97ee2ee251e",
   "metadata": {},
   "outputs": [],
   "source": []
  }
 ],
 "metadata": {
  "kernelspec": {
   "display_name": "Python 3 (ipykernel)",
   "language": "python",
   "name": "python3"
  },
  "language_info": {
   "codemirror_mode": {
    "name": "ipython",
    "version": 3
   },
   "file_extension": ".py",
   "mimetype": "text/x-python",
   "name": "python",
   "nbconvert_exporter": "python",
   "pygments_lexer": "ipython3",
   "version": "3.10.12"
  }
 },
 "nbformat": 4,
 "nbformat_minor": 5
}
