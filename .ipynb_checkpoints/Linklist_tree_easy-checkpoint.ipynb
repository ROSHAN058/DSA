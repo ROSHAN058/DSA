{
 "cells": [
  {
   "cell_type": "code",
   "execution_count": 51,
   "id": "47138c41-7f0d-46de-827e-081809a6d622",
   "metadata": {},
   "outputs": [],
   "source": [
    "class Node:\n",
    "    def __init__(self,data):\n",
    "        self.data=data\n",
    "        self.next=None\n",
    "class Linklist:\n",
    "    def __init__(self):\n",
    "        self.head=None\n",
    "    def pushdata(self,new):\n",
    "        new_node=Node(new)\n",
    "        new_node.next=self.head\n",
    "        self.head=new_node\n",
    "    def printlinklist(self):\n",
    "        temp=self.head\n",
    "        while(temp):\n",
    "            print(temp.data)\n",
    "            temp=temp.next"
   ]
  },
  {
   "cell_type": "code",
   "execution_count": 52,
   "id": "f9732f07-5482-4909-8518-7829560a452a",
   "metadata": {},
   "outputs": [],
   "source": [
    "class Node:\n",
    "    def __init__(self,data):\n",
    "        self.data=data\n",
    "        self.next=None\n"
   ]
  },
  {
   "cell_type": "code",
   "execution_count": 53,
   "id": "66fcffbe-4e6b-491e-9c78-849cb5246885",
   "metadata": {},
   "outputs": [
    {
     "name": "stdout",
     "output_type": "stream",
     "text": [
      "4\n",
      "3\n",
      "2\n",
      "1\n",
      "0\n"
     ]
    }
   ],
   "source": [
    "ll=Linklist()\n",
    "for i in range(5):\n",
    "    ll.pushdata(i)\n",
    "\n",
    "ll.printlinklist()"
   ]
  },
  {
   "cell_type": "code",
   "execution_count": null,
   "id": "ca0476e0-7101-4d33-8bab-74716f7a3485",
   "metadata": {},
   "outputs": [],
   "source": []
  },
  {
   "cell_type": "code",
   "execution_count": 93,
   "id": "8d481086-9008-4759-b29b-621c8c5f4ac5",
   "metadata": {},
   "outputs": [
    {
     "name": "stdout",
     "output_type": "stream",
     "text": [
      "5\n",
      "1\n",
      "6\n"
     ]
    }
   ],
   "source": [
    "class NodeNew:\n",
    "    def __init__(self,val):\n",
    "        self.val=val\n",
    "        self.left=None\n",
    "        self.right=None\n",
    "def inorder(root):\n",
    "    if root:\n",
    "        inorder(root.left)\n",
    "        print(root.val)\n",
    "        inorder(root.right)\n",
    "def preorder(root):\n",
    "    if root:\n",
    "        print(root.val)\n",
    "        inorder(root.left)\n",
    "        inorder(root.right)   \n",
    "def postorder(root):\n",
    "    if root:\n",
    "        inorder(root.left)\n",
    "        inorder(root.right)\n",
    "        print(root.val)\n",
    "    \n",
    "def mirror(root):\n",
    "    if root:\n",
    "        mirror(root.left)\n",
    "        mirror(root.right)  \n",
    "        root.left,root.right=root.right, root.left\n",
    "\n",
    "t=NodeNew(1)\n",
    "t.left=Node(5)\n",
    "t.right=Node(6)\n",
    "inorder(t)\n"
   ]
  },
  {
   "cell_type": "code",
   "execution_count": 94,
   "id": "6c3be324-1e97-4f10-b275-1a5bf46a3152",
   "metadata": {},
   "outputs": [
    {
     "name": "stdout",
     "output_type": "stream",
     "text": [
      "5\n",
      "6\n",
      "1\n"
     ]
    }
   ],
   "source": [
    "postorder(t)"
   ]
  },
  {
   "cell_type": "code",
   "execution_count": 95,
   "id": "f726c7e5-6e2c-463f-8eec-c11e80799a34",
   "metadata": {},
   "outputs": [
    {
     "name": "stdout",
     "output_type": "stream",
     "text": [
      "1\n",
      "5\n",
      "6\n"
     ]
    }
   ],
   "source": [
    "preorder(t)"
   ]
  },
  {
   "cell_type": "code",
   "execution_count": 100,
   "id": "7c2da865-6f08-4f03-8fd5-2d7f91b5283f",
   "metadata": {},
   "outputs": [],
   "source": [
    "mirror(t)"
   ]
  },
  {
   "cell_type": "code",
   "execution_count": 101,
   "id": "67a09c55-411d-43ef-83db-b2c948f08861",
   "metadata": {},
   "outputs": [
    {
     "name": "stdout",
     "output_type": "stream",
     "text": [
      "6\n",
      "1\n",
      "5\n"
     ]
    }
   ],
   "source": [
    "inorder(t)"
   ]
  },
  {
   "cell_type": "code",
   "execution_count": null,
   "id": "52a96979-eb5b-45a4-a7be-457522c5a558",
   "metadata": {},
   "outputs": [],
   "source": []
  }
 ],
 "metadata": {
  "kernelspec": {
   "display_name": "Python 3 (ipykernel)",
   "language": "python",
   "name": "python3"
  },
  "language_info": {
   "codemirror_mode": {
    "name": "ipython",
    "version": 3
   },
   "file_extension": ".py",
   "mimetype": "text/x-python",
   "name": "python",
   "nbconvert_exporter": "python",
   "pygments_lexer": "ipython3",
   "version": "3.10.12"
  }
 },
 "nbformat": 4,
 "nbformat_minor": 5
}
